{
 "cells": [
  {
   "cell_type": "code",
   "execution_count": 2,
   "id": "fc906c7c",
   "metadata": {},
   "outputs": [
    {
     "name": "stdout",
     "output_type": "stream",
     "text": [
      "Hello, World!\n"
     ]
    }
   ],
   "source": [
    "print(\"Hello, World!\")"
   ]
  },
  {
   "cell_type": "code",
   "execution_count": 3,
   "id": "8c8022f3",
   "metadata": {},
   "outputs": [],
   "source": [
    "x = 5"
   ]
  },
  {
   "cell_type": "code",
   "execution_count": 4,
   "id": "46b1dd35",
   "metadata": {},
   "outputs": [
    {
     "name": "stdout",
     "output_type": "stream",
     "text": [
      "5\n"
     ]
    }
   ],
   "source": [
    "print(x)"
   ]
  },
  {
   "cell_type": "code",
   "execution_count": 5,
   "id": "c126a1eb",
   "metadata": {},
   "outputs": [
    {
     "name": "stdout",
     "output_type": "stream",
     "text": [
      "<class 'int'>\n"
     ]
    }
   ],
   "source": [
    "print(type(x))"
   ]
  },
  {
   "cell_type": "code",
   "execution_count": 7,
   "id": "3ceb88d9",
   "metadata": {},
   "outputs": [
    {
     "name": "stdout",
     "output_type": "stream",
     "text": [
      "19.99 <class 'float'>\n"
     ]
    }
   ],
   "source": [
    "preco = 19.99\n",
    "print(preco, type(preco))"
   ]
  },
  {
   "cell_type": "code",
   "execution_count": 9,
   "id": "d654b49d",
   "metadata": {},
   "outputs": [
    {
     "name": "stdout",
     "output_type": "stream",
     "text": [
      "Curitiba <class 'str'>\n"
     ]
    }
   ],
   "source": [
    "cidade = \"Curitiba\"\n",
    "print(cidade, type(cidade))"
   ]
  },
  {
   "cell_type": "code",
   "execution_count": 10,
   "id": "7941bc5e",
   "metadata": {},
   "outputs": [
    {
     "name": "stdout",
     "output_type": "stream",
     "text": [
      "Curitiba <class 'str'>\n"
     ]
    }
   ],
   "source": [
    "cidade = 'Curitiba'\n",
    "print(cidade, type(cidade))"
   ]
  },
  {
   "cell_type": "code",
   "execution_count": 14,
   "id": "962b7650",
   "metadata": {},
   "outputs": [
    {
     "name": "stdout",
     "output_type": "stream",
     "text": [
      "True <class 'bool'>\n"
     ]
    }
   ],
   "source": [
    "disponivel = True\n",
    "print(disponivel, type(disponivel))"
   ]
  },
  {
   "cell_type": "code",
   "execution_count": 15,
   "id": "4c4a3994",
   "metadata": {},
   "outputs": [
    {
     "name": "stdout",
     "output_type": "stream",
     "text": [
      "False <class 'bool'>\n"
     ]
    }
   ],
   "source": [
    "disponivel = False\n",
    "print(disponivel, type(disponivel))"
   ]
  },
  {
   "cell_type": "code",
   "execution_count": 16,
   "id": "e67ca53c",
   "metadata": {},
   "outputs": [],
   "source": [
    "x = 50\n",
    "y = 2"
   ]
  },
  {
   "cell_type": "code",
   "execution_count": 17,
   "id": "1cf0626f",
   "metadata": {},
   "outputs": [
    {
     "name": "stdout",
     "output_type": "stream",
     "text": [
      "52\n",
      "48\n",
      "100\n",
      "25.0\n"
     ]
    }
   ],
   "source": [
    "print(x + y)\n",
    "print(x - y)\n",
    "print(x * y)\n",
    "print(x / y)"
   ]
  },
  {
   "cell_type": "code",
   "execution_count": 18,
   "id": "6fc02d13",
   "metadata": {},
   "outputs": [
    {
     "name": "stdout",
     "output_type": "stream",
     "text": [
      "2500\n",
      "25\n",
      "0\n"
     ]
    }
   ],
   "source": [
    "print(x ** y)\n",
    "print(x // y)\n",
    "print(x % y)"
   ]
  },
  {
   "cell_type": "code",
   "execution_count": 19,
   "id": "7f104756",
   "metadata": {},
   "outputs": [
    {
     "name": "stdout",
     "output_type": "stream",
     "text": [
      "0\n"
     ]
    }
   ],
   "source": [
    "print(3 // 4)"
   ]
  },
  {
   "cell_type": "code",
   "execution_count": 20,
   "id": "37d55231",
   "metadata": {},
   "outputs": [],
   "source": [
    "tem_cafe = True\n",
    "tem_pao = False"
   ]
  },
  {
   "cell_type": "code",
   "execution_count": 24,
   "id": "353e12b2",
   "metadata": {},
   "outputs": [
    {
     "name": "stdout",
     "output_type": "stream",
     "text": [
      "False\n",
      "True\n",
      "False\n"
     ]
    }
   ],
   "source": [
    "print(not tem_cafe)\n",
    "print(tem_cafe or tem_pao)\n",
    "print(tem_cafe and tem_pao)"
   ]
  },
  {
   "cell_type": "code",
   "execution_count": 25,
   "id": "f2a31dc6",
   "metadata": {},
   "outputs": [],
   "source": [
    "dolar = 5.3\n",
    "real = 1"
   ]
  },
  {
   "cell_type": "code",
   "execution_count": 26,
   "id": "bcc1bfe6",
   "metadata": {},
   "outputs": [
    {
     "name": "stdout",
     "output_type": "stream",
     "text": [
      "True\n",
      "False\n",
      "False\n",
      "True\n",
      "False\n",
      "True\n"
     ]
    }
   ],
   "source": [
    "print(dolar > real)\n",
    "print(dolar < real)\n",
    "print(dolar == real)\n",
    "print(dolar >= real)\n",
    "print(dolar <= real)\n",
    "print(dolar != real)"
   ]
  },
  {
   "cell_type": "code",
   "execution_count": 28,
   "id": "5c0f1cfe",
   "metadata": {},
   "outputs": [
    {
     "name": "stdout",
     "output_type": "stream",
     "text": [
      "Informe a sua idade: 19\n",
      "19 <class 'str'>\n"
     ]
    }
   ],
   "source": [
    "idade = input(\"Informe a sua idade: \")\n",
    "print(idade, type(idade))"
   ]
  },
  {
   "cell_type": "code",
   "execution_count": 30,
   "id": "b9d91429",
   "metadata": {},
   "outputs": [
    {
     "name": "stdout",
     "output_type": "stream",
     "text": [
      "19 <class 'int'>\n"
     ]
    }
   ],
   "source": [
    "idade = int(idade)\n",
    "print(idade, type(idade))"
   ]
  },
  {
   "cell_type": "code",
   "execution_count": 31,
   "id": "a955365c",
   "metadata": {},
   "outputs": [
    {
     "ename": "ValueError",
     "evalue": "invalid literal for int() with base 10: '123abc'",
     "output_type": "error",
     "traceback": [
      "\u001b[1;31m---------------------------------------------------------------------------\u001b[0m",
      "\u001b[1;31mValueError\u001b[0m                                Traceback (most recent call last)",
      "\u001b[1;32mC:\\Users\\LUIZ~1.MAL\\AppData\\Local\\Temp/ipykernel_7948/2154220962.py\u001b[0m in \u001b[0;36m<module>\u001b[1;34m\u001b[0m\n\u001b[1;32m----> 1\u001b[1;33m \u001b[0mint\u001b[0m\u001b[1;33m(\u001b[0m\u001b[1;34m'123abc'\u001b[0m\u001b[1;33m)\u001b[0m\u001b[1;33m\u001b[0m\u001b[1;33m\u001b[0m\u001b[0m\n\u001b[0m",
      "\u001b[1;31mValueError\u001b[0m: invalid literal for int() with base 10: '123abc'"
     ]
    }
   ],
   "source": [
    "int('123abc')"
   ]
  },
  {
   "cell_type": "code",
   "execution_count": 32,
   "id": "56bbc214",
   "metadata": {},
   "outputs": [
    {
     "name": "stdout",
     "output_type": "stream",
     "text": [
      "123.25\n",
      "123.25\n",
      "False\n",
      "True\n",
      "False\n",
      "True\n"
     ]
    }
   ],
   "source": [
    "print(float('123.25'))\n",
    "print(str(123.25))\n",
    "print(bool(''))\n",
    "print(bool('abc'))\n",
    "print(bool(0))\n",
    "print(bool(-2))"
   ]
  },
  {
   "cell_type": "code",
   "execution_count": 35,
   "id": "0bdd6f16",
   "metadata": {},
   "outputs": [
    {
     "name": "stdout",
     "output_type": "stream",
     "text": [
      "Digite o valor do seu salário mensal: 1600\n",
      "Digite o valor do seu gasto mensal em média: 800\n",
      "O montante que você pode economizar ao fim do ano é de 9600.0\n"
     ]
    }
   ],
   "source": [
    "salario_mensal = input('Digite o valor do seu salário mensal: ')\n",
    "salario_mensal = float(salario_mensal)\n",
    "\n",
    "gasto_mensal = input('Digite o valor do seu gasto mensal em média: ')\n",
    "gasto_mensal = float(gasto_mensal)\n",
    "\n",
    "salario_total = salario_mensal * 12\n",
    "gasto_total = gasto_mensal * 12\n",
    "\n",
    "montante_economizado = salario_total - gasto_total\n",
    "print('O montante que você pode economizar ao fim do ano é de', montante_economizado)"
   ]
  },
  {
   "cell_type": "code",
   "execution_count": 36,
   "id": "0a3021a8",
   "metadata": {},
   "outputs": [
    {
     "name": "stdout",
     "output_type": "stream",
     "text": [
      "Qual é o valor da corrida?35\n",
      "Pegue o ônibus\n"
     ]
    }
   ],
   "source": [
    "valor_passagem = 4.30\n",
    "\n",
    "valor_corrida = input('Qual é o valor da corrida?')\n",
    "\n",
    "if float(valor_corrida) <= valor_passagem * 5:\n",
    "    print('Pague a corrida')\n",
    "if float(valor_corrida) > valor_passagem * 5:\n",
    "    print('Pegue o ônibus')"
   ]
  },
  {
   "cell_type": "code",
   "execution_count": 37,
   "id": "e9b3fb32",
   "metadata": {},
   "outputs": [
    {
     "name": "stdout",
     "output_type": "stream",
     "text": [
      "Qual é o valor da corrida?17\n",
      "Pague a corrida\n"
     ]
    }
   ],
   "source": [
    "valor_passagem = 4.30\n",
    "\n",
    "valor_corrida = input('Qual é o valor da corrida?')\n",
    "\n",
    "if float(valor_corrida) <= valor_passagem * 5:\n",
    "    print('Pague a corrida')\n",
    "else:\n",
    "    print('Pegue o ônibus')"
   ]
  },
  {
   "cell_type": "code",
   "execution_count": 41,
   "id": "add830aa",
   "metadata": {},
   "outputs": [
    {
     "name": "stdout",
     "output_type": "stream",
     "text": [
      "Qual é o valor da corrida?35\n",
      "Pegue o ônibus\n"
     ]
    }
   ],
   "source": [
    "valor_passagem = 4.30\n",
    "\n",
    "valor_corrida = input('Qual é o valor da corrida?')\n",
    "\n",
    "if float(valor_corrida) <= valor_passagem * 5:\n",
    "    print('Pague a corrida')\n",
    "else:\n",
    "    if float(valor_corrida) <= valor_passagem * 6:\n",
    "        print('Aguarde um momento, o valor pode abaixar')\n",
    "    else:\n",
    "        print('Pegue o ônibus')"
   ]
  },
  {
   "cell_type": "code",
   "execution_count": 44,
   "id": "816b67a9",
   "metadata": {},
   "outputs": [
    {
     "name": "stdout",
     "output_type": "stream",
     "text": [
      "Qual é o valor da corrida?35\n",
      "Pegue o ônibus\n"
     ]
    }
   ],
   "source": [
    "valor_passagem = 4.30\n",
    "\n",
    "valor_corrida = input('Qual é o valor da corrida?')\n",
    "\n",
    "if float(valor_corrida) <= valor_passagem * 5:\n",
    "    print('Pague a corrida')\n",
    "elif float(valor_corrida) <= valor_passagem * 6:\n",
    "    print('Aguarde um momento, o valor pode abaixar')\n",
    "else:\n",
    "    print('Pegue o ônibus')"
   ]
  },
  {
   "cell_type": "code",
   "execution_count": 48,
   "id": "b382a641",
   "metadata": {},
   "outputs": [
    {
     "name": "stdout",
     "output_type": "stream",
     "text": [
      "1 Item limpo\n",
      "2 Itens limpos\n",
      "3 Itens limpos\n",
      "4 Itens limpos\n",
      "5 Itens limpos\n",
      "6 Itens limpos\n",
      "7 Itens limpos\n",
      "8 Itens limpos\n",
      "9 Itens limpos\n",
      "10 Itens limpos\n",
      "Fim da repetição do bloco while\n"
     ]
    }
   ],
   "source": [
    "contador = 0\n",
    "\n",
    "while contador < 10:\n",
    "    contador = contador + 1\n",
    "    if contador == 1:\n",
    "        print(contador, \"Item limpo\")\n",
    "    else:\n",
    "        print(contador, \"Itens limpos\")\n",
    "        \n",
    "print('Fim da repetição do bloco while')"
   ]
  },
  {
   "cell_type": "code",
   "execution_count": 51,
   "id": "368c8761",
   "metadata": {},
   "outputs": [
    {
     "name": "stdout",
     "output_type": "stream",
     "text": [
      "1 Item limpo\n",
      "2 Itens limpos\n",
      "3 Itens limpos\n",
      "4 Itens limpos\n",
      "5 Itens limpos\n",
      "6 Itens limpos\n",
      "7 Itens limpos\n",
      "8 Itens limpos\n",
      "9 Itens limpos\n",
      "10 Itens limpos\n",
      "Fim da repetição do bloco while\n"
     ]
    }
   ],
   "source": [
    "contador = 0\n",
    "\n",
    "while True:\n",
    "    if contador < 10:\n",
    "        contador = contador + 1\n",
    "        if contador == 1:\n",
    "            print(contador, \"Item limpo\")\n",
    "        else:\n",
    "            print(contador, \"Itens limpos\")\n",
    "    else:\n",
    "        break\n",
    "        \n",
    "print('Fim da repetição do bloco while')"
   ]
  },
  {
   "cell_type": "code",
   "execution_count": 52,
   "id": "9ef9e09b",
   "metadata": {},
   "outputs": [
    {
     "name": "stdout",
     "output_type": "stream",
     "text": [
      "Digite a sua senha: LetsCodeAcademy\n",
      "Senha inválida. Tente novamenteletscode\n",
      "Senha inválida. Tente novamenteLetsCode\n",
      "Acesso permitido\n"
     ]
    }
   ],
   "source": [
    "texto = input('Digite a sua senha: ')\n",
    "\n",
    "while texto != 'LetsCode':\n",
    "    texto = input('Senha inválida. Tente novamente')\n",
    "    \n",
    "print('Acesso permitido')"
   ]
  },
  {
   "cell_type": "code",
   "execution_count": 53,
   "id": "d8ada16a",
   "metadata": {},
   "outputs": [
    {
     "name": "stdout",
     "output_type": "stream",
     "text": [
      "2 Itens limpos\n",
      "3 Itens limpos\n",
      "4 Itens limpos\n",
      "5 Itens limpos\n",
      "6 Itens limpos\n",
      "7 Itens limpos\n",
      "8 Itens limpos\n",
      "9 Itens limpos\n",
      "10 Itens limpos\n",
      "Fim da repetição do bloco while\n"
     ]
    }
   ],
   "source": [
    "contador = 0\n",
    "\n",
    "while contador < 10:\n",
    "    contador = contador + 1\n",
    "    if contador == 1:\n",
    "        continue\n",
    "    print(contador, \"Itens limpos\")\n",
    "        \n",
    "print('Fim da repetição do bloco while')"
   ]
  },
  {
   "cell_type": "code",
   "execution_count": null,
   "id": "27058d68",
   "metadata": {},
   "outputs": [],
   "source": []
  }
 ],
 "metadata": {
  "kernelspec": {
   "display_name": "Python 3 (ipykernel)",
   "language": "python",
   "name": "python3"
  },
  "language_info": {
   "codemirror_mode": {
    "name": "ipython",
    "version": 3
   },
   "file_extension": ".py",
   "mimetype": "text/x-python",
   "name": "python",
   "nbconvert_exporter": "python",
   "pygments_lexer": "ipython3",
   "version": "3.9.5"
  }
 },
 "nbformat": 4,
 "nbformat_minor": 5
}
